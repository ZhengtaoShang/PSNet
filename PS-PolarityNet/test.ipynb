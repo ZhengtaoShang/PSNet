{
 "cells": [
  {
   "cell_type": "code",
   "execution_count": 1,
   "metadata": {},
   "outputs": [],
   "source": [
    "import torch\n",
    "from torch import nn\n",
    "from d2l import torch as d2l\n",
    "\n",
    "from function.generate_label import SS_data_label\n",
    "from model.PS_Polarity_Net import get_model, get_loss\n",
    "\n",
    "from tqdm.notebook import tqdm\n",
    "\n",
    "from utils import Metric_polarity\n",
    "\n",
    "import os\n",
    "os.environ[\"CUDA_VISIBLE_DEVICES\"] = '1'\n",
    "\n",
    "import numpy as np\n"
   ]
  },
  {
   "cell_type": "code",
   "execution_count": 2,
   "metadata": {},
   "outputs": [],
   "source": [
    "## define the test function\n",
    "# test function\n",
    "def test(model, test_dataset, criterion, num_gpus, ratio=1):\n",
    "\n",
    "    devices = [d2l.try_gpu(i) for i in range(num_gpus)]\n",
    "\n",
    "    model.eval()\n",
    "    metrics = {'polarity':Metric_polarity()}\n",
    "    \n",
    "    N = int(len(test_dataset) * ratio)\n",
    "    \n",
    "    polarity_predict = np.zeros(N)\n",
    "    polarity_actual = np.zeros(N)\n",
    "    sac_name = []\n",
    "\n",
    "    with torch.no_grad():\n",
    "        all_loss = []\n",
    "        with tqdm(range(0,N,1), total=N, smoothing=0.9) as tqdmUpdate:\n",
    "            for i in tqdmUpdate:\n",
    "                x, (SS,dection,polarity_label,sacname) = test_dataset.__getitem__(i)\n",
    "                x = torch.Tensor(x).to(devices[0]).unsqueeze(0)\\\n",
    "                \n",
    "                if polarity_label == 2:\n",
    "                    polarity_actual[i] = -1\n",
    "                elif polarity_label == 1:\n",
    "                    polarity_actual[i] = 1\n",
    "                elif polarity_label == 0:\n",
    "                    polarity_actual[i] = 0\n",
    "\n",
    "                polarity_label = torch.Tensor([polarity_label]).to(devices[0])\n",
    "                targets = (polarity_label)\n",
    "\n",
    "                preds = model(x)\n",
    "                loss = criterion(preds[0], targets.long())\n",
    "                all_loss.append(loss.item())\n",
    "\n",
    "                polarity = [pred[0].cpu().numpy() for pred in preds]\n",
    "                if np.argmax(polarity) == 0:\n",
    "                    polarity_predict[i] = 0\n",
    "                elif np.argmax(polarity) == 1:\n",
    "                    polarity_predict[i] = 1\n",
    "                elif np.argmax(polarity) == 2:\n",
    "                    polarity_predict[i] = -1\n",
    "\n",
    "                sac_name.append(test_dataset.sacname_labels[i].decode().strip())\n",
    "                \n",
    "                tqdmUpdate.set_postfix(ordered_dict={\n",
    "                    'updata':'{:0>4d}'.format(i+1),\n",
    "                    'test_loss':'{:.6f}'.format(loss.item()),\n",
    "                    })\n",
    "    \n",
    "    loss_ave = np.array(all_loss).mean()\n",
    "          \n",
    "    return metrics, polarity_predict, polarity_actual, sac_name, loss_ave"
   ]
  },
  {
   "cell_type": "code",
   "execution_count": 3,
   "metadata": {},
   "outputs": [
    {
     "data": {
      "application/vnd.jupyter.widget-view+json": {
       "model_id": "35c7fbdc87434156802ad0111c7d22be",
       "version_major": 2,
       "version_minor": 0
      },
      "text/plain": [
       "  0%|          | 0/10 [00:00<?, ?it/s]"
      ]
     },
     "metadata": {},
     "output_type": "display_data"
    }
   ],
   "source": [
    "model = get_model().cuda()\n",
    "model.load_state_dict(torch.load('./checkpoints/net_params.pth'))\n",
    "\n",
    "data_root = '../data'\n",
    "model.eval()\n",
    "testset = SS_data_label(data_root, 'test', 8000, 1, 'gaussian')\n",
    "devices = d2l.try_all_gpus()\n",
    "num_gpus = len(devices)\n",
    "criterion = get_loss()\n",
    "\n",
    "metrics, polarity_predict, polarity_actual, sac_name, loss_ave = test(model, testset, criterion, num_gpus, 1)"
   ]
  },
  {
   "cell_type": "code",
   "execution_count": 4,
   "metadata": {},
   "outputs": [
    {
     "name": "stdout",
     "output_type": "stream",
     "text": [
      "Predict:  [-1. -1.  1.  1.  1.  0.  0.  0.  0.  0.]\n",
      "Lable:  [-1. -1.  1.  1.  1.  0.  0.  0.  0.  0.]\n",
      "[ True  True  True  True  True  True  True  True  True  True]\n"
     ]
    }
   ],
   "source": [
    "print('Predict: ', polarity_predict)\n",
    "print('Lable: ', polarity_actual)\n",
    "print(polarity_predict==polarity_actual)"
   ]
  }
 ],
 "metadata": {
  "kernelspec": {
   "display_name": "torch",
   "language": "python",
   "name": "python3"
  },
  "language_info": {
   "codemirror_mode": {
    "name": "ipython",
    "version": 3
   },
   "file_extension": ".py",
   "mimetype": "text/x-python",
   "name": "python",
   "nbconvert_exporter": "python",
   "pygments_lexer": "ipython3",
   "version": "3.8.0"
  },
  "orig_nbformat": 4
 },
 "nbformat": 4,
 "nbformat_minor": 2
}
